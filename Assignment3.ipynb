{
 "cells": [
  {
   "cell_type": "code",
   "execution_count": 1,
   "metadata": {},
   "outputs": [
    {
     "name": "stderr",
     "output_type": "stream",
     "text": [
      "C:\\Users\\andy\\Anaconda3\\lib\\site-packages\\sklearn\\cross_validation.py:41: DeprecationWarning: This module was deprecated in version 0.18 in favor of the model_selection module into which all the refactored classes and functions are moved. Also note that the interface of the new CV iterators are different from that of this module. This module will be removed in 0.20.\n",
      "  \"This module will be removed in 0.20.\", DeprecationWarning)\n"
     ]
    }
   ],
   "source": [
    "%matplotlib inline\n",
    "import warnings\n",
    "warnings.filterwarnings(\"ignore\")\n",
    "import pickle,pprint\n",
    "\n",
    "import sqlite3\n",
    "import pandas as pd\n",
    "import numpy as np\n",
    "import nltk\n",
    "\n",
    "\n",
    "import re\n",
    "\n",
    "\n",
    "from nltk.corpus import stopwords\n",
    "from sklearn.feature_extraction.text import CountVectorizer\n",
    "import seaborn as sns\n",
    "import matplotlib.pyplot as plt \n",
    "\n",
    "from sklearn.feature_extraction.text import TfidfVectorizer\n",
    "from gensim.models import Word2Vec\n",
    "\n",
    "from sklearn.neighbors import KNeighborsClassifier\n",
    "from sklearn import cross_validation\n",
    "from sklearn.metrics import accuracy_score\n",
    "from sklearn.cross_validation import train_test_split"
   ]
  },
  {
   "cell_type": "code",
   "execution_count": 2,
   "metadata": {
    "collapsed": true
   },
   "outputs": [],
   "source": [
    "pkl_file = open('data.pkl', 'rb')\n",
    "filtered_data = pickle.load(pkl_file)\n",
    "#pprint.pprint(filtered_data)\n",
    "pkl_file.close()"
   ]
  },
  {
   "cell_type": "code",
   "execution_count": 3,
   "metadata": {},
   "outputs": [
    {
     "data": {
      "text/plain": [
       "Index(['ProductId', 'UserId', 'ProfileName', 'HelpfulnessNumerator',\n",
       "       'HelpfulnessDenominator', 'Time', 'Summary', 'Text', 'Sentiment',\n",
       "       'CleanedText'],\n",
       "      dtype='object')"
      ]
     },
     "execution_count": 3,
     "metadata": {},
     "output_type": "execute_result"
    }
   ],
   "source": [
    "filtered_data.columns"
   ]
  },
  {
   "cell_type": "markdown",
   "metadata": {},
   "source": [
    "Filtering 2000 Positive and 2000 Negaitive review since more data points are creating :MemoryError"
   ]
  },
  {
   "cell_type": "code",
   "execution_count": 4,
   "metadata": {
    "collapsed": true
   },
   "outputs": [],
   "source": [
    "filtered_data.sort_values('Time',inplace=True)"
   ]
  },
  {
   "cell_type": "code",
   "execution_count": 5,
   "metadata": {
    "collapsed": true
   },
   "outputs": [],
   "source": [
    "filtered_10k=filtered_data.iloc[:10000,:]"
   ]
  },
  {
   "cell_type": "code",
   "execution_count": 7,
   "metadata": {},
   "outputs": [
    {
     "data": {
      "text/plain": [
       "1130     961718400\n",
       "1129     962236800\n",
       "7338    1075420800\n",
       "9545    1081209600\n",
       "3439    1081555200\n",
       "6709    1083456000\n",
       "1097    1088467200\n",
       "9542    1089504000\n",
       "5818    1090972800\n",
       "5819    1091059200\n",
       "1160    1091318400\n",
       "1157    1092787200\n",
       "9952    1094860800\n",
       "5068    1100563200\n",
       "1177    1106438400\n",
       "10      1107820800\n",
       "6681    1108080000\n",
       "2457    1108771200\n",
       "8029    1109289600\n",
       "6805    1113782400\n",
       "Name: Time, dtype: int64"
      ]
     },
     "execution_count": 7,
     "metadata": {},
     "output_type": "execute_result"
    }
   ],
   "source": [
    "filtered_10k.Time.head(20)"
   ]
  },
  {
   "cell_type": "code",
   "execution_count": 6,
   "metadata": {
    "collapsed": true
   },
   "outputs": [],
   "source": [
    "filtered_10k.reset_index(inplace=True)"
   ]
  },
  {
   "cell_type": "code",
   "execution_count": 7,
   "metadata": {
    "collapsed": true
   },
   "outputs": [],
   "source": [
    "label=filtered_10k.Sentiment"
   ]
  },
  {
   "cell_type": "code",
   "execution_count": 8,
   "metadata": {
    "collapsed": true
   },
   "outputs": [],
   "source": [
    "filtered_10k.drop('Sentiment',axis=1,inplace=True)"
   ]
  },
  {
   "cell_type": "code",
   "execution_count": 9,
   "metadata": {},
   "outputs": [
    {
     "data": {
      "text/html": [
       "<div>\n",
       "<style>\n",
       "    .dataframe thead tr:only-child th {\n",
       "        text-align: right;\n",
       "    }\n",
       "\n",
       "    .dataframe thead th {\n",
       "        text-align: left;\n",
       "    }\n",
       "\n",
       "    .dataframe tbody tr th {\n",
       "        vertical-align: top;\n",
       "    }\n",
       "</style>\n",
       "<table border=\"1\" class=\"dataframe\">\n",
       "  <thead>\n",
       "    <tr style=\"text-align: right;\">\n",
       "      <th></th>\n",
       "      <th>index</th>\n",
       "      <th>ProductId</th>\n",
       "      <th>UserId</th>\n",
       "      <th>ProfileName</th>\n",
       "      <th>HelpfulnessNumerator</th>\n",
       "      <th>HelpfulnessDenominator</th>\n",
       "      <th>Time</th>\n",
       "      <th>Summary</th>\n",
       "      <th>Text</th>\n",
       "      <th>CleanedText</th>\n",
       "    </tr>\n",
       "  </thead>\n",
       "  <tbody>\n",
       "    <tr>\n",
       "      <th>0</th>\n",
       "      <td>1130</td>\n",
       "      <td>B00002Z754</td>\n",
       "      <td>A29Z5PI9BW2PU3</td>\n",
       "      <td>Robbie</td>\n",
       "      <td>7</td>\n",
       "      <td>7</td>\n",
       "      <td>961718400</td>\n",
       "      <td>Great Product</td>\n",
       "      <td>This was a really good idea and the final prod...</td>\n",
       "      <td>realli good idea final product outstand use de...</td>\n",
       "    </tr>\n",
       "    <tr>\n",
       "      <th>1</th>\n",
       "      <td>1129</td>\n",
       "      <td>B00002Z754</td>\n",
       "      <td>A3B8RCEI0FXFI6</td>\n",
       "      <td>B G Chase</td>\n",
       "      <td>10</td>\n",
       "      <td>10</td>\n",
       "      <td>962236800</td>\n",
       "      <td>WOW Make your own 'slickers' !</td>\n",
       "      <td>I just received my shipment and could hardly w...</td>\n",
       "      <td>receiv shipment could hard wait tri product lo...</td>\n",
       "    </tr>\n",
       "    <tr>\n",
       "      <th>2</th>\n",
       "      <td>7338</td>\n",
       "      <td>B0000EIE2Z</td>\n",
       "      <td>A3M174IC0VXOS2</td>\n",
       "      <td>Gail Cooke</td>\n",
       "      <td>3</td>\n",
       "      <td>3</td>\n",
       "      <td>1075420800</td>\n",
       "      <td>BEST BLUEBERRIES</td>\n",
       "      <td>In the winter when fresh blueberries exceed ou...</td>\n",
       "      <td>winter fresh blueberri exceed food budget dri ...</td>\n",
       "    </tr>\n",
       "    <tr>\n",
       "      <th>3</th>\n",
       "      <td>9545</td>\n",
       "      <td>B0000VYKXC</td>\n",
       "      <td>A3L88AH6MABEDL</td>\n",
       "      <td>Javier Denison</td>\n",
       "      <td>0</td>\n",
       "      <td>0</td>\n",
       "      <td>1081209600</td>\n",
       "      <td>Best coffee I've tasted. I try others but alwa...</td>\n",
       "      <td>If you like a strong but smooth flavorful coff...</td>\n",
       "      <td>like strong smooth flavor coffe tri other keep...</td>\n",
       "    </tr>\n",
       "    <tr>\n",
       "      <th>4</th>\n",
       "      <td>3439</td>\n",
       "      <td>B00016UX0K</td>\n",
       "      <td>AF1PV3DIC0XM7</td>\n",
       "      <td>Robert Ashton</td>\n",
       "      <td>1</td>\n",
       "      <td>2</td>\n",
       "      <td>1081555200</td>\n",
       "      <td>Classic Condiment</td>\n",
       "      <td>Mae Ploy Sweet Chili Sauce is becoming a stand...</td>\n",
       "      <td>mae ploy sweet chili sauc becom standard condi...</td>\n",
       "    </tr>\n",
       "  </tbody>\n",
       "</table>\n",
       "</div>"
      ],
      "text/plain": [
       "   index   ProductId          UserId     ProfileName  HelpfulnessNumerator  \\\n",
       "0   1130  B00002Z754  A29Z5PI9BW2PU3          Robbie                     7   \n",
       "1   1129  B00002Z754  A3B8RCEI0FXFI6       B G Chase                    10   \n",
       "2   7338  B0000EIE2Z  A3M174IC0VXOS2      Gail Cooke                     3   \n",
       "3   9545  B0000VYKXC  A3L88AH6MABEDL  Javier Denison                     0   \n",
       "4   3439  B00016UX0K   AF1PV3DIC0XM7   Robert Ashton                     1   \n",
       "\n",
       "   HelpfulnessDenominator        Time  \\\n",
       "0                       7   961718400   \n",
       "1                      10   962236800   \n",
       "2                       3  1075420800   \n",
       "3                       0  1081209600   \n",
       "4                       2  1081555200   \n",
       "\n",
       "                                             Summary  \\\n",
       "0                                      Great Product   \n",
       "1                     WOW Make your own 'slickers' !   \n",
       "2                                   BEST BLUEBERRIES   \n",
       "3  Best coffee I've tasted. I try others but alwa...   \n",
       "4                                  Classic Condiment   \n",
       "\n",
       "                                                Text  \\\n",
       "0  This was a really good idea and the final prod...   \n",
       "1  I just received my shipment and could hardly w...   \n",
       "2  In the winter when fresh blueberries exceed ou...   \n",
       "3  If you like a strong but smooth flavorful coff...   \n",
       "4  Mae Ploy Sweet Chili Sauce is becoming a stand...   \n",
       "\n",
       "                                         CleanedText  \n",
       "0  realli good idea final product outstand use de...  \n",
       "1  receiv shipment could hard wait tri product lo...  \n",
       "2  winter fresh blueberri exceed food budget dri ...  \n",
       "3  like strong smooth flavor coffe tri other keep...  \n",
       "4  mae ploy sweet chili sauc becom standard condi...  "
      ]
     },
     "execution_count": 9,
     "metadata": {},
     "output_type": "execute_result"
    }
   ],
   "source": [
    "filtered_10k.head()"
   ]
  },
  {
   "cell_type": "code",
   "execution_count": 10,
   "metadata": {
    "collapsed": true
   },
   "outputs": [],
   "source": [
    "filtered_10k.drop('index',axis=1,inplace=True)"
   ]
  },
  {
   "cell_type": "code",
   "execution_count": 11,
   "metadata": {},
   "outputs": [
    {
     "data": {
      "text/html": [
       "<div>\n",
       "<style>\n",
       "    .dataframe thead tr:only-child th {\n",
       "        text-align: right;\n",
       "    }\n",
       "\n",
       "    .dataframe thead th {\n",
       "        text-align: left;\n",
       "    }\n",
       "\n",
       "    .dataframe tbody tr th {\n",
       "        vertical-align: top;\n",
       "    }\n",
       "</style>\n",
       "<table border=\"1\" class=\"dataframe\">\n",
       "  <thead>\n",
       "    <tr style=\"text-align: right;\">\n",
       "      <th></th>\n",
       "      <th>ProductId</th>\n",
       "      <th>UserId</th>\n",
       "      <th>ProfileName</th>\n",
       "      <th>HelpfulnessNumerator</th>\n",
       "      <th>HelpfulnessDenominator</th>\n",
       "      <th>Time</th>\n",
       "      <th>Summary</th>\n",
       "      <th>Text</th>\n",
       "      <th>CleanedText</th>\n",
       "    </tr>\n",
       "  </thead>\n",
       "  <tbody>\n",
       "    <tr>\n",
       "      <th>0</th>\n",
       "      <td>B00002Z754</td>\n",
       "      <td>A29Z5PI9BW2PU3</td>\n",
       "      <td>Robbie</td>\n",
       "      <td>7</td>\n",
       "      <td>7</td>\n",
       "      <td>961718400</td>\n",
       "      <td>Great Product</td>\n",
       "      <td>This was a really good idea and the final prod...</td>\n",
       "      <td>realli good idea final product outstand use de...</td>\n",
       "    </tr>\n",
       "    <tr>\n",
       "      <th>1</th>\n",
       "      <td>B00002Z754</td>\n",
       "      <td>A3B8RCEI0FXFI6</td>\n",
       "      <td>B G Chase</td>\n",
       "      <td>10</td>\n",
       "      <td>10</td>\n",
       "      <td>962236800</td>\n",
       "      <td>WOW Make your own 'slickers' !</td>\n",
       "      <td>I just received my shipment and could hardly w...</td>\n",
       "      <td>receiv shipment could hard wait tri product lo...</td>\n",
       "    </tr>\n",
       "    <tr>\n",
       "      <th>2</th>\n",
       "      <td>B0000EIE2Z</td>\n",
       "      <td>A3M174IC0VXOS2</td>\n",
       "      <td>Gail Cooke</td>\n",
       "      <td>3</td>\n",
       "      <td>3</td>\n",
       "      <td>1075420800</td>\n",
       "      <td>BEST BLUEBERRIES</td>\n",
       "      <td>In the winter when fresh blueberries exceed ou...</td>\n",
       "      <td>winter fresh blueberri exceed food budget dri ...</td>\n",
       "    </tr>\n",
       "    <tr>\n",
       "      <th>3</th>\n",
       "      <td>B0000VYKXC</td>\n",
       "      <td>A3L88AH6MABEDL</td>\n",
       "      <td>Javier Denison</td>\n",
       "      <td>0</td>\n",
       "      <td>0</td>\n",
       "      <td>1081209600</td>\n",
       "      <td>Best coffee I've tasted. I try others but alwa...</td>\n",
       "      <td>If you like a strong but smooth flavorful coff...</td>\n",
       "      <td>like strong smooth flavor coffe tri other keep...</td>\n",
       "    </tr>\n",
       "    <tr>\n",
       "      <th>4</th>\n",
       "      <td>B00016UX0K</td>\n",
       "      <td>AF1PV3DIC0XM7</td>\n",
       "      <td>Robert Ashton</td>\n",
       "      <td>1</td>\n",
       "      <td>2</td>\n",
       "      <td>1081555200</td>\n",
       "      <td>Classic Condiment</td>\n",
       "      <td>Mae Ploy Sweet Chili Sauce is becoming a stand...</td>\n",
       "      <td>mae ploy sweet chili sauc becom standard condi...</td>\n",
       "    </tr>\n",
       "  </tbody>\n",
       "</table>\n",
       "</div>"
      ],
      "text/plain": [
       "    ProductId          UserId     ProfileName  HelpfulnessNumerator  \\\n",
       "0  B00002Z754  A29Z5PI9BW2PU3          Robbie                     7   \n",
       "1  B00002Z754  A3B8RCEI0FXFI6       B G Chase                    10   \n",
       "2  B0000EIE2Z  A3M174IC0VXOS2      Gail Cooke                     3   \n",
       "3  B0000VYKXC  A3L88AH6MABEDL  Javier Denison                     0   \n",
       "4  B00016UX0K   AF1PV3DIC0XM7   Robert Ashton                     1   \n",
       "\n",
       "   HelpfulnessDenominator        Time  \\\n",
       "0                       7   961718400   \n",
       "1                      10   962236800   \n",
       "2                       3  1075420800   \n",
       "3                       0  1081209600   \n",
       "4                       2  1081555200   \n",
       "\n",
       "                                             Summary  \\\n",
       "0                                      Great Product   \n",
       "1                     WOW Make your own 'slickers' !   \n",
       "2                                   BEST BLUEBERRIES   \n",
       "3  Best coffee I've tasted. I try others but alwa...   \n",
       "4                                  Classic Condiment   \n",
       "\n",
       "                                                Text  \\\n",
       "0  This was a really good idea and the final prod...   \n",
       "1  I just received my shipment and could hardly w...   \n",
       "2  In the winter when fresh blueberries exceed ou...   \n",
       "3  If you like a strong but smooth flavorful coff...   \n",
       "4  Mae Ploy Sweet Chili Sauce is becoming a stand...   \n",
       "\n",
       "                                         CleanedText  \n",
       "0  realli good idea final product outstand use de...  \n",
       "1  receiv shipment could hard wait tri product lo...  \n",
       "2  winter fresh blueberri exceed food budget dri ...  \n",
       "3  like strong smooth flavor coffe tri other keep...  \n",
       "4  mae ploy sweet chili sauc becom standard condi...  "
      ]
     },
     "execution_count": 11,
     "metadata": {},
     "output_type": "execute_result"
    }
   ],
   "source": [
    "filtered_10k.head()"
   ]
  },
  {
   "cell_type": "markdown",
   "metadata": {},
   "source": [
    "### KNN"
   ]
  },
  {
   "cell_type": "code",
   "execution_count": 12,
   "metadata": {
    "collapsed": true
   },
   "outputs": [],
   "source": [
    "X_1, X_test, y_1, y_test = train_test_split(filtered_10k, label, test_size=0.2, random_state=50)\n",
    "X_tr, X_cv, y_tr, y_cv = train_test_split(X_1,y_1, test_size=0.25, random_state=50)"
   ]
  },
  {
   "cell_type": "code",
   "execution_count": 13,
   "metadata": {},
   "outputs": [
    {
     "name": "stdout",
     "output_type": "stream",
     "text": [
      "(8000, 9) 8000\n",
      "(6000, 9) 6000\n"
     ]
    }
   ],
   "source": [
    "print(X_1.shape,len(y_1))\n",
    "print(X_tr.shape,len(y_tr))"
   ]
  },
  {
   "cell_type": "markdown",
   "metadata": {},
   "source": [
    "### Bag Of Words"
   ]
  },
  {
   "cell_type": "code",
   "execution_count": 14,
   "metadata": {
    "collapsed": true
   },
   "outputs": [],
   "source": [
    "count_vector=CountVectorizer(ngram_range=(1,2))\n",
    "vocab=count_vector.fit(X_tr.CleanedText)\n",
    "\n",
    "bow_train=count_vector.transform(X_tr.CleanedText)\n",
    "bow_cv=count_vector.transform(X_cv.CleanedText)"
   ]
  },
  {
   "cell_type": "code",
   "execution_count": 15,
   "metadata": {},
   "outputs": [
    {
     "name": "stdout",
     "output_type": "stream",
     "text": [
      "(6000, 139286)\n",
      "(2000, 139286)\n"
     ]
    }
   ],
   "source": [
    "print(bow_train.get_shape())\n",
    "print(bow_cv.get_shape())"
   ]
  },
  {
   "cell_type": "code",
   "execution_count": 16,
   "metadata": {
    "collapsed": true
   },
   "outputs": [],
   "source": [
    "bow_train_array=bow_train.toarray()\n",
    "bow_cv_array=bow_cv.toarray()"
   ]
  },
  {
   "cell_type": "code",
   "execution_count": 17,
   "metadata": {},
   "outputs": [
    {
     "data": {
      "text/plain": [
       "KNeighborsClassifier(algorithm='auto', leaf_size=30, metric='minkowski',\n",
       "           metric_params=None, n_jobs=1, n_neighbors=1, p=2,\n",
       "           weights='uniform')"
      ]
     },
     "execution_count": 17,
     "metadata": {},
     "output_type": "execute_result"
    }
   ],
   "source": [
    "model=KNeighborsClassifier(n_neighbors=1)\n",
    "model.fit(bow_train_array,y_tr)"
   ]
  },
  {
   "cell_type": "code",
   "execution_count": null,
   "metadata": {
    "collapsed": true
   },
   "outputs": [],
   "source": [
    "prediction=model.predict(bow_cv_array)\n",
    "cnf_matrix=confusion_matrix(y_cv, prediction, labels=None, sample_weight=None)"
   ]
  },
  {
   "cell_type": "code",
   "execution_count": 15,
   "metadata": {
    "collapsed": true
   },
   "outputs": [],
   "source": [
    " \n",
    "def fit_and_cv(X_train,y_train,X_test,y_test):\n",
    "    nbrs_list=list(range(1,11)) \n",
    "    for i in nbrs_list:\n",
    "        model=KNeighborsClassifier(n_neighbors=i)\n",
    "        model.fit(X_train,y_train)\n",
    "        print(\"For n_neighbors =\",str(i))\n",
    "        prediction=model.predict(X_test)\n",
    "        accuracy = accuracy_score(y_test, prediction, normalize=True) * float(100)\n",
    "        print (\"\\nmodel accuracy is {} %\".format(accuracy))"
   ]
  },
  {
   "cell_type": "code",
   "execution_count": null,
   "metadata": {},
   "outputs": [
    {
     "name": "stdout",
     "output_type": "stream",
     "text": [
      "For n_neighbors ="
     ]
    }
   ],
   "source": [
    "fit_and_cv(bow_train_array,y_tr,bow_cv_array,y_cv)"
   ]
  },
  {
   "cell_type": "code",
   "execution_count": 13,
   "metadata": {},
   "outputs": [
    {
     "data": {
      "text/plain": [
       "(4000, 53711)"
      ]
     },
     "execution_count": 13,
     "metadata": {},
     "output_type": "execute_result"
    }
   ],
   "source": [
    "filtered_data_count.shape\n"
   ]
  },
  {
   "cell_type": "markdown",
   "metadata": {},
   "source": [
    "## Simple CV for practice:"
   ]
  },
  {
   "cell_type": "code",
   "execution_count": 14,
   "metadata": {
    "collapsed": true
   },
   "outputs": [],
   "source": [
    "X_1, X_test, y_1, y_test = train_test_split(filtered_data_count, filtered_4k.Sentiment, test_size=0.3, random_state=50)\n",
    "X_tr, X_cv, y_tr, y_cv = train_test_split(X_1,y_1, test_size=0.3, random_state=50)"
   ]
  },
  {
   "cell_type": "code",
   "execution_count": 16,
   "metadata": {},
   "outputs": [
    {
     "name": "stdout",
     "output_type": "stream",
     "text": [
      "For n_neighbors = 1\n",
      "\n",
      "model accuracy is 90.23809523809524 %\n",
      "For n_neighbors = 2\n",
      "\n",
      "model accuracy is 73.33333333333333 %\n",
      "For n_neighbors = 3\n",
      "\n",
      "model accuracy is 81.9047619047619 %\n",
      "For n_neighbors = 4\n",
      "\n",
      "model accuracy is 70.23809523809523 %\n",
      "For n_neighbors = 5\n",
      "\n",
      "model accuracy is 87.14285714285714 %\n",
      "For n_neighbors = 6\n",
      "\n",
      "model accuracy is 86.19047619047619 %\n",
      "For n_neighbors = 7\n",
      "\n",
      "model accuracy is 84.04761904761905 %\n",
      "For n_neighbors = 8\n",
      "\n",
      "model accuracy is 84.04761904761905 %\n",
      "For n_neighbors = 9\n",
      "\n",
      "model accuracy is 84.04761904761905 %\n",
      "For n_neighbors = 10\n",
      "\n",
      "model accuracy is 83.92857142857143 %\n"
     ]
    }
   ],
   "source": [
    "nbrs_list=list(range(1,11))\n",
    "for i in nbrs_list:\n",
    "    print(\"For n_neighbors =\",str(i))\n",
    "    fit_model(X_tr,y_tr,X_cv,y_cv,i)\n",
    "    "
   ]
  },
  {
   "cell_type": "code",
   "execution_count": 24,
   "metadata": {
    "collapsed": true
   },
   "outputs": [],
   "source": [
    "\n",
    "\n",
    "def model_with_cv(X_train,y_train,X_test,y_test,cv):\n",
    "    nbrs_list=list(range(1,11,2))\n",
    "\n",
    "# empty list that will hold cv scores\n",
    "    cv_scores = []\n",
    "\n",
    "# perform 10-fold cross validation\n",
    "    for k in nbrs_list:\n",
    "        knn = KNeighborsClassifier(n_neighbors=k)\n",
    "        scores = cross_validation.cross_val_score(knn, X_train, y_train, cv=cv, scoring='accuracy')\n",
    "        cv_scores.append(scores.mean())\n",
    "\n",
    "# changing to misclassification error\n",
    "    MSE = [1 - x for x in cv_scores]\n",
    "\n",
    "# determining best k\n",
    "    optimal_k = nbrs_list[MSE.index(min(MSE))]\n",
    "    print('\\nThe optimal number of neighbors is %d.' % optimal_k)\n",
    "\n",
    "# plot misclassification error vs k \n",
    "    plt.plot(nbrs_list, MSE)\n",
    "\n",
    "    for xy in zip(nbrs_list, np.round(MSE,3)):\n",
    "        plt.annotate('(%s, %s)' % xy, xy=xy, textcoords='data')\n",
    "\n",
    "    plt.xlabel('Number of Neighbors K')\n",
    "    plt.ylabel('Misclassification Error')\n",
    "    plt.show()\n",
    "\n",
    "    print(\"the misclassification error for each k value is : \", np.round(MSE,3))\n",
    "\n",
    "    knn_optimal = KNeighborsClassifier(n_neighbors=optimal_k)\n",
    "\n",
    "# fitting the model\n",
    "    knn_optimal.fit(X_train, y_train)\n",
    "\n",
    "# predict the response\n",
    "    pred = knn_optimal.predict(X_test)\n",
    "\n",
    "# evaluate accuracy\n",
    "    acc = accuracy_score(y_test, pred) * 100\n",
    "    print('\\nThe accuracy of the knn classifier for k = %d is %f%%' % (optimal_k, acc))"
   ]
  },
  {
   "cell_type": "code",
   "execution_count": 25,
   "metadata": {},
   "outputs": [
    {
     "name": "stdout",
     "output_type": "stream",
     "text": [
      "\n",
      "The optimal number of neighbors is 1.\n"
     ]
    },
    {
     "data": {
      "image/png": "[encoded data removed]",
      "text/plain": [
       "<matplotlib.figure.Figure at 0x2d2aa9d31d0>"
      ]
     },
     "metadata": {},
     "output_type": "display_data"
    },
    {
     "name": "stdout",
     "output_type": "stream",
     "text": [
      "the misclassification error for each k value is :  [ 0.072  0.164  0.174  0.19   0.153]\n",
      "\n",
      "The accuracy of the knn classifier for k = 1 is 95.666667%\n"
     ]
    }
   ],
   "source": [
    "model_with_cv(X_1,y_1,X_test,y_test,10)"
   ]
  },
  {
   "cell_type": "markdown",
   "metadata": {},
   "source": [
    "### TF-IDF intialization and dimension creation"
   ]
  },
  {
   "cell_type": "code",
   "execution_count": 28,
   "metadata": {},
   "outputs": [
    {
     "name": "stdout",
     "output_type": "stream",
     "text": [
      "the type of count vectorizer  <class 'scipy.sparse.csr.csr_matrix'>\n",
      "the shape of out TF-IDF vectorizer  (4000, 53711)\n"
     ]
    }
   ],
   "source": [
    "tf_idf_vect = TfidfVectorizer(ngram_range=(1,2))\n",
    "filtered_tf_idf = tf_idf_vect.fit_transform(filtered_4k.CleanedText)\n",
    "print(\"the type of count vectorizer \",type(filtered_tf_idf))\n",
    "print(\"the shape of out TF-IDF vectorizer \",filtered_tf_idf.get_shape())"
   ]
  },
  {
   "cell_type": "code",
   "execution_count": 29,
   "metadata": {
    "collapsed": true
   },
   "outputs": [],
   "source": [
    "filtered_tf_idf=filtered_tf_idf.toarray()"
   ]
  },
  {
   "cell_type": "code",
   "execution_count": 30,
   "metadata": {
    "collapsed": true
   },
   "outputs": [],
   "source": [
    "X_1, X_test, y_1, y_test = train_test_split(filtered_tf_idf, filtered_4k.Sentiment, test_size=0.3, random_state=50)\n",
    "#X_tr, X_cv, y_tr, y_cv = train_test_split(X_1,y_1, test_size=0.3, random_state=50)"
   ]
  },
  {
   "cell_type": "code",
   "execution_count": 31,
   "metadata": {},
   "outputs": [
    {
     "name": "stdout",
     "output_type": "stream",
     "text": [
      "\n",
      "The optimal number of neighbors is 1.\n"
     ]
    },
    {
     "data": {
      "image/png": "[encoded data removed]",
      "text/plain": [
       "<matplotlib.figure.Figure at 0x2d2aaf291d0>"
      ]
     },
     "metadata": {},
     "output_type": "display_data"
    },
    {
     "name": "stdout",
     "output_type": "stream",
     "text": [
      "the misclassification error for each k value is :  [ 0.066  0.149  0.129  0.136  0.13 ]\n",
      "\n",
      "The accuracy of the knn classifier for k = 1 is 95.000000%\n"
     ]
    }
   ],
   "source": [
    "model_with_cv(X_1,y_1,X_test,y_test,10)"
   ]
  },
  {
   "cell_type": "markdown",
   "metadata": {},
   "source": [
    "### Wieghted Word2Vec"
   ]
  },
  {
   "cell_type": "code",
   "execution_count": 34,
   "metadata": {
    "collapsed": true
   },
   "outputs": [],
   "source": [
    "list_of_sent=[]\n",
    "for sent in filtered_4k.CleanedText:\n",
    "    list_of_sent.append(sent.split())"
   ]
  },
  {
   "cell_type": "code",
   "execution_count": 35,
   "metadata": {},
   "outputs": [
    {
     "name": "stdout",
     "output_type": "stream",
     "text": [
      "4000\n",
      "['realli', 'good', 'idea', 'final', 'product', 'outstand', 'use', 'decal', 'car', 'window', 'everybodi', 'ask', 'bought', 'decal', 'made', 'two', 'thumb']\n"
     ]
    }
   ],
   "source": [
    "print(len(list_of_sent))\n",
    "print(list_of_sent[0])"
   ]
  },
  {
   "cell_type": "code",
   "execution_count": 36,
   "metadata": {},
   "outputs": [
    {
     "name": "stdout",
     "output_type": "stream",
     "text": [
      "4000\n",
      "50\n"
     ]
    }
   ],
   "source": [
    "w2v_model=Word2Vec(list_of_sent,min_count=5,size=50, workers=4)\n",
    "w2v_words = list(w2v_model.wv.vocab)\n",
    "# average Word2Vec\n",
    "# compute average word2vec for each review.\n",
    "sent_vectors = []; # the avg-w2v for each sentence/review is stored in this list\n",
    "for sent in list_of_sent: # for each review/sentence\n",
    "    sent_vec = np.zeros(50) # as word vectors are of zero length\n",
    "    cnt_words =0; # num of words with a valid vector in the sentence/review\n",
    "    for word in sent: # for each word in a review/sentence\n",
    "        if word in w2v_words:\n",
    "            vec = w2v_model.wv[word]\n",
    "            sent_vec += vec\n",
    "            cnt_words += 1\n",
    "    if cnt_words != 0:\n",
    "        sent_vec /= cnt_words\n",
    "    sent_vectors.append(sent_vec)\n",
    "print(len(sent_vectors))\n",
    "print(len(sent_vectors[0]))"
   ]
  },
  {
   "cell_type": "code",
   "execution_count": 37,
   "metadata": {},
   "outputs": [
    {
     "data": {
      "text/plain": [
       "list"
      ]
     },
     "execution_count": 37,
     "metadata": {},
     "output_type": "execute_result"
    }
   ],
   "source": [
    "type(sent_vectors)"
   ]
  },
  {
   "cell_type": "code",
   "execution_count": 38,
   "metadata": {
    "collapsed": true
   },
   "outputs": [],
   "source": [
    "X_1, X_test, y_1, y_test = train_test_split(sent_vectors, filtered_4k.Sentiment, test_size=0.3, random_state=50)\n",
    "#X_tr, X_cv, y_tr, y_cv = train_test_split(X_1,y_1, test_size=0.3, random_state=50)"
   ]
  },
  {
   "cell_type": "code",
   "execution_count": 39,
   "metadata": {},
   "outputs": [
    {
     "name": "stdout",
     "output_type": "stream",
     "text": [
      "\n",
      "The optimal number of neighbors is 1.\n"
     ]
    },
    {
     "data": {
      "image/png": "[encoded data removed]",
      "text/plain": [
       "<matplotlib.figure.Figure at 0x2d1fc91ddd8>"
      ]
     },
     "metadata": {},
     "output_type": "display_data"
    },
    {
     "name": "stdout",
     "output_type": "stream",
     "text": [
      "the misclassification error for each k value is :  [ 0.099  0.193  0.163  0.168  0.164]\n",
      "\n",
      "The accuracy of the knn classifier for k = 1 is 92.500000%\n"
     ]
    }
   ],
   "source": [
    "model_with_cv(X_1,y_1,X_test,y_test,10)"
   ]
  },
  {
   "cell_type": "markdown",
   "metadata": {},
   "source": [
    "### Wieghted TF-IDF"
   ]
  },
  {
   "cell_type": "code",
   "execution_count": 40,
   "metadata": {
    "collapsed": true
   },
   "outputs": [],
   "source": [
    "tfidf_feat = tf_idf_vect.get_feature_names() # tfidf words/col-names\n",
    "# final_tf_idf is the sparse matrix with row= sentence, col=word and cell_val = tfidf\n",
    "\n",
    "tfidf_sent_vectors = []; # the tfidf-w2v for each sentence/review is stored in this list\n",
    "row=0;\n",
    "for sent in list_of_sent: # for each review/sentence \n",
    "    sent_vec = np.zeros(50) # as word vectors are of zero length\n",
    "    weight_sum =0; # num of words with a valid vector in the sentence/review\n",
    "    for word in sent: # for each word in a review/sentence\n",
    "        if word in w2v_words:\n",
    "            vec = w2v_model.wv[word]\n",
    "            # obtain the tf_idfidf of a word in a sentence/review\n",
    "            tf_idf = filtered_tf_idf[row, tfidf_feat.index(word)]\n",
    "            sent_vec += (vec * tf_idf)\n",
    "            weight_sum += tf_idf\n",
    "    if weight_sum != 0:\n",
    "        sent_vec /= weight_sum\n",
    "    tfidf_sent_vectors.append(sent_vec)\n",
    "    row += 1"
   ]
  },
  {
   "cell_type": "code",
   "execution_count": 41,
   "metadata": {},
   "outputs": [
    {
     "data": {
      "text/plain": [
       "list"
      ]
     },
     "execution_count": 41,
     "metadata": {},
     "output_type": "execute_result"
    }
   ],
   "source": [
    "type(tfidf_sent_vectors)\n"
   ]
  },
  {
   "cell_type": "code",
   "execution_count": 42,
   "metadata": {
    "collapsed": true
   },
   "outputs": [],
   "source": [
    "X_1, X_test, y_1, y_test = train_test_split(tfidf_sent_vectors, filtered_4k.Sentiment, test_size=0.3, random_state=50)"
   ]
  },
  {
   "cell_type": "code",
   "execution_count": 43,
   "metadata": {},
   "outputs": [
    {
     "name": "stdout",
     "output_type": "stream",
     "text": [
      "\n",
      "The optimal number of neighbors is 1.\n"
     ]
    },
    {
     "data": {
      "image/png": "[encoded data removed]",
      "text/plain": [
       "<matplotlib.figure.Figure at 0x2d19522e080>"
      ]
     },
     "metadata": {},
     "output_type": "display_data"
    },
    {
     "name": "stdout",
     "output_type": "stream",
     "text": [
      "the misclassification error for each k value is :  [ 0.098  0.193  0.154  0.166  0.155]\n",
      "\n",
      "The accuracy of the knn classifier for k = 1 is 92.833333%\n"
     ]
    }
   ],
   "source": [
    "model_with_cv(X_1,y_1,X_test,y_test,10)"
   ]
  },
  {
   "cell_type": "markdown",
   "metadata": {},
   "source": [
    "## Conclusion : The best K is 1 for all 4 methods , but accuracy of BOW (95.66) is slightly higher than others. Another observation is \"wieghted word2vec\" and \"wieghted TF-IDF took significantly less time than other two."
   ]
  },
  {
   "cell_type": "code",
   "execution_count": null,
   "metadata": {
    "collapsed": true
   },
   "outputs": [],
   "source": []
  }
 ],
 "metadata": {
  "kernelspec": {
   "display_name": "Python 3",
   "language": "python",
   "name": "python3"
  },
  "language_info": {
   "codemirror_mode": {
    "name": "ipython",
    "version": 3
   },
   "file_extension": ".py",
   "mimetype": "text/x-python",
   "name": "python",
   "nbconvert_exporter": "python",
   "pygments_lexer": "ipython3",
   "version": "3.6.3"
  }
 },
 "nbformat": 4,
 "nbformat_minor": 2
}
